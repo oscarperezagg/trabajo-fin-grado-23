{
 "cells": [
  {
   "cell_type": "code",
   "execution_count": 184,
   "metadata": {},
   "outputs": [
    {
     "name": "stdout",
     "output_type": "stream",
     "text": [
      "Index(['open', 'high', 'low', 'close', 'volume', 'SMA_200', 'SMA_50', 'RSI_14',\n",
      "       'beta', 'lastReport', 'reportPriceMovement', 'betaSignal',\n",
      "       '200smaSignal', '50smaSignal', 'reportSignal', 'minimunSignal',\n",
      "       'superMinimunSignal', 'rsiSignal', 'minimunSignalPlusRsi'],\n",
      "      dtype='object')\n"
     ]
    }
   ],
   "source": [
    "import pandas as pd \n",
    "df = pd.read_pickle(f\"/Users/oscarperezarruti/Documents/Documentos/Repositorios/trabajo-fin-grado-23/src/temp/testings/AAPL.pkl\")\n",
    "\n",
    "\n",
    "# Establecer 'date' como índice\n",
    "df.set_index('date', inplace=True)\n",
    "\n",
    "# Filtrar para quedarse con la primera ocurrencia de cada día\n",
    "df = df.groupby(df.index.date).first()\n",
    "print(df.columns)\n"
   ]
  },
  {
   "cell_type": "code",
   "execution_count": 185,
   "metadata": {},
   "outputs": [
    {
     "name": "stdout",
     "output_type": "stream",
     "text": [
      "2021-01-04      Lunes\n",
      "2021-01-05       None\n",
      "2021-01-06       None\n",
      "2021-01-07       None\n",
      "2021-01-08    Viernes\n",
      "               ...   \n",
      "2023-11-27      Lunes\n",
      "2023-11-28       None\n",
      "2023-11-29       None\n",
      "2023-11-30       None\n",
      "2023-12-01    Viernes\n",
      "Name: day_type, Length: 734, dtype: object\n",
      "Días que son Lunes: 134\n",
      "Días que son Viernes: 148\n"
     ]
    }
   ],
   "source": [
    "# Función para verificar si la fecha es lunes o viernes\n",
    "def is_monday_or_friday(date):\n",
    "    if date.weekday() == 0:  # 0 representa el lunes\n",
    "        return 'Lunes'\n",
    "    elif date.weekday() == 4:  # 4 representa el viernes\n",
    "        return 'Viernes'\n",
    "    else:\n",
    "        return None  # En caso de que no sea lunes ni viernes\n",
    "\n",
    "# Asegurarse de que el índice es de tipo datetime\n",
    "df.index = pd.to_datetime(df.index)\n",
    "\n",
    "# Aplicar la función al índice y crear una nueva columna 'day_type'\n",
    "df['day_type'] = df.index.map(is_monday_or_friday)\n",
    "\n",
    "print(df[\"day_type\"])\n",
    "\n",
    "num_mondays = len(df[df['day_type'] == 'Lunes'])\n",
    "num_fridays = len(df[df['day_type'] == 'Viernes'])\n",
    "\n",
    "# Mostrar el resultado\n",
    "print(f'Días que son Lunes: {num_mondays}')\n",
    "print(f'Días que son Viernes: {num_fridays}')"
   ]
  },
  {
   "cell_type": "code",
   "execution_count": 186,
   "metadata": {},
   "outputs": [
    {
     "name": "stdout",
     "output_type": "stream",
     "text": [
      "2021-01-04      Lunes\n",
      "2021-01-08    Viernes\n",
      "2021-01-11      Lunes\n",
      "2021-01-15    Viernes\n",
      "2021-01-22    Viernes\n",
      "               ...   \n",
      "2023-11-17    Viernes\n",
      "2023-11-20      Lunes\n",
      "2023-11-24    Viernes\n",
      "2023-11-27      Lunes\n",
      "2023-12-01    Viernes\n",
      "Name: day_type, Length: 282, dtype: object\n"
     ]
    }
   ],
   "source": [
    "df.dropna(subset=['day_type'], inplace=True)\n",
    "print(df[\"day_type\"])"
   ]
  },
  {
   "cell_type": "code",
   "execution_count": 187,
   "metadata": {},
   "outputs": [
    {
     "name": "stdout",
     "output_type": "stream",
     "text": [
      "Index(['open', 'high', 'low', 'close', 'volume', 'SMA_200', 'SMA_50', 'RSI_14',\n",
      "       'beta', 'lastReport', 'reportPriceMovement', 'betaSignal',\n",
      "       '200smaSignal', '50smaSignal', 'reportSignal', 'minimunSignal',\n",
      "       'superMinimunSignal', 'rsiSignal', 'minimunSignalPlusRsi', 'day_type'],\n",
      "      dtype='object')\n"
     ]
    }
   ],
   "source": [
    "\n",
    "dates_to_remove = []\n",
    "\n",
    "# Iterar sobre el DataFrame\n",
    "for index, row in df.iterrows():\n",
    "    if row['day_type'] == 'Lunes':\n",
    "        # Buscar la siguiente fecha que sea viernes, considerando también si hay otro lunes en medio\n",
    "        for next_index, next_row in df[(df.index > index)].iterrows():\n",
    "            if next_row['day_type'] == 'Lunes':\n",
    "                # Si se encuentra otro lunes antes, eliminar solo este lunes\n",
    "                dates_to_remove.append(index)\n",
    "                break\n",
    "            elif next_row['day_type'] == 'Viernes':\n",
    "                # Si se encuentra un viernes, verificar la diferencia de días\n",
    "                if (next_index - index).days != 4:\n",
    "                    # Si la diferencia de días no es cuatro, eliminar ambos\n",
    "                    dates_to_remove.extend([index, next_index])\n",
    "                break\n",
    "\n",
    "# Eliminar las fechas marcadas del DataFrame\n",
    "df = df.drop(dates_to_remove)\n",
    "\n",
    "# Mostrar el DataFrame resultante\n",
    "print(df.columns)"
   ]
  },
  {
   "cell_type": "code",
   "execution_count": 188,
   "metadata": {},
   "outputs": [
    {
     "name": "stdout",
     "output_type": "stream",
     "text": [
      "Index(['open', 'high', 'low', 'close', 'volume', 'SMA_200', 'SMA_50', 'RSI_14',\n",
      "       'beta', 'lastReport', 'reportPriceMovement', 'betaSignal',\n",
      "       '200smaSignal', '50smaSignal', 'reportSignal', 'minimunSignal',\n",
      "       'superMinimunSignal', 'rsiSignal', 'minimunSignalPlusRsi', 'day_type',\n",
      "       'growth'],\n",
      "      dtype='object')\n",
      "           day_type  growth\n",
      "2021-01-04    Lunes  -1.808\n",
      "2021-01-08  Viernes     NaN\n",
      "2021-01-11    Lunes  -2.231\n",
      "2021-01-15  Viernes     NaN\n",
      "2021-01-22  Viernes     NaN\n",
      "...             ...     ...\n",
      "2023-11-17  Viernes     NaN\n",
      "2023-11-20    Lunes   1.850\n",
      "2023-11-24  Viernes     NaN\n",
      "2023-11-27    Lunes   0.700\n",
      "2023-12-01  Viernes     NaN\n",
      "\n",
      "[278 rows x 2 columns]\n"
     ]
    }
   ],
   "source": [
    "\n",
    "# Iterar sobre las filas de 'Viernes'\n",
    "for index, row in df[df['day_type'] == 'Lunes'].iterrows():\n",
    "    # Calcular la fecha del lunes asociado\n",
    "    friday_date = index + pd.Timedelta(days=4)\n",
    "\n",
    "    # Verificar si el lunes existe en el DataFrame\n",
    "    if friday_date in df.index:\n",
    "        friday_row = df.loc[friday_date]\n",
    "\n",
    "        growth = friday_row['close'] - row['close']\n",
    "\n",
    "\n",
    "        # Asignar el valor de crecimiento a la fila de viernes\n",
    "        df.at[index, 'growth'] = growth\n",
    "\n",
    "# Mostrar el DataFrame resultante\n",
    "print(df.columns)\n",
    "print(df[['day_type', 'growth']])"
   ]
  },
  {
   "cell_type": "code",
   "execution_count": 189,
   "metadata": {},
   "outputs": [
    {
     "name": "stdout",
     "output_type": "stream",
     "text": [
      "            growth  minimunSignal\n",
      "2021-01-04  -1.808          False\n",
      "2021-01-11  -2.231          False\n",
      "2021-01-25  -6.388          False\n",
      "2021-02-01   3.375          False\n",
      "2021-02-08  -2.598          False\n",
      "...            ...            ...\n",
      "2023-10-30   3.260          False\n",
      "2023-11-06   5.343           True\n",
      "2023-11-13   4.770           True\n",
      "2023-11-20   1.850           True\n",
      "2023-11-27   0.700          False\n",
      "\n",
      "[130 rows x 2 columns]\n"
     ]
    }
   ],
   "source": [
    "# Filtrar el DataFrame original para obtener solo las filas con 'day_type' igual a 'Lunes'\n",
    "df_lunes = df[df['day_type'] == 'Lunes']\n",
    "\n",
    "\n",
    "new_df_lunes = df_lunes[['growth', 'minimunSignal']].copy()\n",
    "\n",
    "\n",
    "# Mostrar el nuevo DataFrame\n",
    "print(new_df_lunes)\n"
   ]
  },
  {
   "cell_type": "code",
   "execution_count": 190,
   "metadata": {},
   "outputs": [
    {
     "name": "stdout",
     "output_type": "stream",
     "text": [
      "Número de veces que 'minimunSignal' es True: 35\n"
     ]
    }
   ],
   "source": [
    "# Sumar todas las veces que la columna 'minimunSignal' es True\n",
    "total_true = new_df_lunes['minimunSignal'].sum()\n",
    "\n",
    "# Mostrar el resultado\n",
    "print(\"Número de veces que 'minimunSignal' es True:\", total_true)\n"
   ]
  },
  {
   "cell_type": "code",
   "execution_count": 191,
   "metadata": {},
   "outputs": [
    {
     "name": "stdout",
     "output_type": "stream",
     "text": [
      "            growth  minimunSignal\n",
      "2021-04-05   6.702           True\n",
      "2021-04-12   1.565           True\n",
      "2021-04-19  -2.165           True\n",
      "2021-04-26  -1.319           True\n",
      "2021-05-10  -3.825           True\n",
      "2021-05-17   0.562           True\n",
      "2021-05-24   0.158           True\n",
      "2021-06-07   1.084           True\n",
      "2021-06-14   4.190           True\n",
      "2021-07-12   3.105           True\n",
      "2021-07-26  -3.007           True\n",
      "2021-08-02   0.315           True\n",
      "2021-08-16  -2.695           True\n",
      "2021-08-23  -0.474           True\n",
      "2021-08-30   5.331           True\n",
      "2021-09-27  -6.507           True\n",
      "2023-04-17   1.056           True\n",
      "2023-05-01   0.687           True\n",
      "2023-05-08   0.846           True\n",
      "2023-05-15   2.264           True\n",
      "2023-05-22  -2.423           True\n",
      "2023-06-05  -1.486           True\n",
      "2023-06-12   4.319           True\n",
      "2023-06-26   3.959           True\n",
      "2023-07-03  -2.613           True\n",
      "2023-07-17   2.185           True\n",
      "2023-07-31  -7.271           True\n",
      "2023-08-14  -4.853           True\n",
      "2023-08-28   9.508           True\n",
      "2023-09-18  -1.079           True\n",
      "2023-10-02   2.367           True\n",
      "2023-10-09   5.303           True\n",
      "2023-11-06   5.343           True\n",
      "2023-11-13   4.770           True\n",
      "2023-11-20   1.850           True\n"
     ]
    }
   ],
   "source": [
    "# Filtrar para obtener solo las filas donde 'minimunSignal' es True\n",
    "df_true = new_df_lunes[new_df_lunes['minimunSignal'] == True]\n",
    "\n",
    "# Mostrar el nuevo DataFrame\n",
    "print(df_true)\n"
   ]
  },
  {
   "cell_type": "code",
   "execution_count": 192,
   "metadata": {},
   "outputs": [
    {
     "name": "stdout",
     "output_type": "stream",
     "text": [
      "Crecimiento total: 50.99 $\n"
     ]
    }
   ],
   "source": [
    "# Sumar todas las veces que la columna 'minimunSignal' es True\n",
    "total_growth = new_df_lunes['growth'].sum()\n",
    "\n",
    "# Mostrar el resultado\n",
    "print(\"Crecimiento total:\", round(total_growth,2),\"$\")\n"
   ]
  }
 ],
 "metadata": {
  "kernelspec": {
   "display_name": "tfg_env",
   "language": "python",
   "name": "python3"
  },
  "language_info": {
   "codemirror_mode": {
    "name": "ipython",
    "version": 3
   },
   "file_extension": ".py",
   "mimetype": "text/x-python",
   "name": "python",
   "nbconvert_exporter": "python",
   "pygments_lexer": "ipython3",
   "version": "3.11.5"
  }
 },
 "nbformat": 4,
 "nbformat_minor": 2
}
