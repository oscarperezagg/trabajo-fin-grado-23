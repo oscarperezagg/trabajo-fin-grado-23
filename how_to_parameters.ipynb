{
 "cells": [
  {
   "cell_type": "code",
   "execution_count": 1,
   "metadata": {},
   "outputs": [],
   "source": [
    "from src.lib.MONGODB import *\n",
    "from src.system.secret import *\n",
    "import pandas as pd\n",
    "from src.modules.ALGORITHM_MODULE import *\n",
    "import numpy as np\n",
    "\n",
    "conn = MongoDbFunctions(\n",
    "    DATABASE[\"host\"],\n",
    "    DATABASE[\"port\"],\n",
    "    DATABASE[\"username\"],\n",
    "    DATABASE[\"password\"],\n",
    "    DATABASE[\"dbname\"],\n",
    "    \"CoreData\",\n",
    ")\n",
    "\n",
    "assets = conn.findByMultipleFields(\n",
    "    fields={\"interval\": \"1day\", \"symbol\": {\"$ne\": \"SPX\"}},\n",
    "    custom=True,\n",
    "    get_all=True,\n",
    "    proyeccion={\"_id\": 0, \"symbol\": 1},\n",
    ")\n",
    "assets = [asset[\"symbol\"] for asset in assets]\n"
   ]
  },
  {
   "cell_type": "markdown",
   "metadata": {},
   "source": [
    "## Obtenemos AMD"
   ]
  },
  {
   "cell_type": "code",
   "execution_count": 2,
   "metadata": {},
   "outputs": [
    {
     "name": "stdout",
     "output_type": "stream",
     "text": [
      "Last data date: 1999-11-01 00:00:00\n",
      "Last spx date: 1970-01-02 00:00:00\n",
      "Last data date: 1999-11-01 00:00:00\n",
      "Last spx date: 1970-01-02 00:00:00\n"
     ]
    }
   ],
   "source": [
    "\n",
    "data = conn.findByMultipleFields(\n",
    "    fields={\"symbol\": \"AAPL\", \"interval\": \"1day\"}, custom=True\n",
    ")\n",
    "\n",
    "spx = conn.findByMultipleFields(\n",
    "    fields={\"symbol\": \"SPX\", \"interval\": \"1day\"}, custom=True\n",
    ")\n",
    "spx = parameters.formatData(spx)\n",
    "\n",
    "data = parameters.formatData(data)\n",
    "\n",
    "print(f\"Last data date: {data.iloc[0]['date']}\")\n",
    "print(f\"Last spx date: {spx.iloc[0]['date']}\")\n",
    "\n",
    "data = parameters.matchDates(data, spx)\n",
    "# Filtramos a los datos de los últimos 10 años \n",
    "\n",
    "print(f\"Last data date: {data.iloc[0]['date']}\")\n",
    "print(f\"Last spx date: {spx.iloc[0]['date']}\")\n",
    "\n"
   ]
  },
  {
   "cell_type": "markdown",
   "metadata": {},
   "source": [
    "## Calculamos simple moving average"
   ]
  },
  {
   "cell_type": "code",
   "execution_count": 3,
   "metadata": {},
   "outputs": [
    {
     "name": "stdout",
     "output_type": "stream",
     "text": [
      "              open      high      low     close       volume       date  \\\n",
      "datetime                                                                  \n",
      "1999-11-01   80.00   80.6900   77.370   77.6200    2487300.0 1999-11-01   \n",
      "1999-11-02   78.00   81.6900   77.310   80.2500    3564600.0 1999-11-02   \n",
      "1999-11-03   81.62   83.2500   81.000   81.5000    2932700.0 1999-11-03   \n",
      "1999-11-04   82.06   85.3700   80.620   83.6200    3384700.0 1999-11-04   \n",
      "1999-11-05   84.62   88.3700   84.000   88.3100    3721500.0 1999-11-05   \n",
      "...            ...       ...      ...       ...          ...        ...   \n",
      "2023-12-12  193.08  194.7200  191.721  194.7100   52696900.0 2023-12-12   \n",
      "2023-12-13  195.09  198.0000  194.850  197.9600   70404183.0 2023-12-13   \n",
      "2023-12-14  198.02  199.6200  196.160  198.1100   66831572.0 2023-12-14   \n",
      "2023-12-15  197.53  198.3999  197.000  197.5700  128538401.0 2023-12-15   \n",
      "2023-12-18  196.09  196.6300  194.395  194.6666   20965976.0 2023-12-18   \n",
      "\n",
      "                SMA_50     SMA_200  \n",
      "datetime                            \n",
      "1999-11-01         NaN         NaN  \n",
      "1999-11-02         NaN         NaN  \n",
      "1999-11-03         NaN         NaN  \n",
      "1999-11-04         NaN         NaN  \n",
      "1999-11-05         NaN         NaN  \n",
      "...                ...         ...  \n",
      "2023-12-12  182.334200  176.793900  \n",
      "2023-12-13  182.845400  177.046650  \n",
      "2023-12-14  183.334400  177.310650  \n",
      "2023-12-15  183.787600  177.568950  \n",
      "2023-12-18  184.131132  177.787133  \n",
      "\n",
      "[6072 rows x 8 columns]\n"
     ]
    }
   ],
   "source": [
    "parameters.simplemovingaverage(data, 50)\n",
    "parameters.simplemovingaverage(data, 200)\n",
    "print(data)"
   ]
  },
  {
   "cell_type": "markdown",
   "metadata": {},
   "source": [
    "## Calculo de relative strength index"
   ]
  },
  {
   "cell_type": "code",
   "execution_count": 4,
   "metadata": {},
   "outputs": [
    {
     "name": "stdout",
     "output_type": "stream",
     "text": [
      "              open      high      low     close       volume       date  \\\n",
      "datetime                                                                  \n",
      "1999-11-01   80.00   80.6900   77.370   77.6200    2487300.0 1999-11-01   \n",
      "1999-11-02   78.00   81.6900   77.310   80.2500    3564600.0 1999-11-02   \n",
      "1999-11-03   81.62   83.2500   81.000   81.5000    2932700.0 1999-11-03   \n",
      "1999-11-04   82.06   85.3700   80.620   83.6200    3384700.0 1999-11-04   \n",
      "1999-11-05   84.62   88.3700   84.000   88.3100    3721500.0 1999-11-05   \n",
      "...            ...       ...      ...       ...          ...        ...   \n",
      "2023-12-12  193.08  194.7200  191.721  194.7100   52696900.0 2023-12-12   \n",
      "2023-12-13  195.09  198.0000  194.850  197.9600   70404183.0 2023-12-13   \n",
      "2023-12-14  198.02  199.6200  196.160  198.1100   66831572.0 2023-12-14   \n",
      "2023-12-15  197.53  198.3999  197.000  197.5700  128538401.0 2023-12-15   \n",
      "2023-12-18  196.09  196.6300  194.395  194.6666   20965976.0 2023-12-18   \n",
      "\n",
      "                SMA_50     SMA_200     RSI_14  \n",
      "datetime                                       \n",
      "1999-11-01         NaN         NaN        NaN  \n",
      "1999-11-02         NaN         NaN        NaN  \n",
      "1999-11-03         NaN         NaN        NaN  \n",
      "1999-11-04         NaN         NaN        NaN  \n",
      "1999-11-05         NaN         NaN        NaN  \n",
      "...                ...         ...        ...  \n",
      "2023-12-12  182.334200  176.793900  64.695546  \n",
      "2023-12-13  182.845400  177.046650  69.489908  \n",
      "2023-12-14  183.334400  177.310650  69.694465  \n",
      "2023-12-15  183.787600  177.568950  67.928780  \n",
      "2023-12-18  184.131132  177.787133  59.238795  \n",
      "\n",
      "[6072 rows x 9 columns]\n"
     ]
    }
   ],
   "source": [
    "parameters.relativestregthindex(data, 14)\n",
    "print(data)"
   ]
  },
  {
   "cell_type": "markdown",
   "metadata": {},
   "source": [
    "## Calculo de Beta diaria (Últimos 5 años)"
   ]
  },
  {
   "cell_type": "code",
   "execution_count": 5,
   "metadata": {},
   "outputs": [
    {
     "name": "stdout",
     "output_type": "stream",
     "text": [
      "              open      high      low     close       volume       date  \\\n",
      "datetime                                                                  \n",
      "1999-11-01   80.00   80.6900   77.370   77.6200    2487300.0 1999-11-01   \n",
      "1999-11-02   78.00   81.6900   77.310   80.2500    3564600.0 1999-11-02   \n",
      "1999-11-03   81.62   83.2500   81.000   81.5000    2932700.0 1999-11-03   \n",
      "1999-11-04   82.06   85.3700   80.620   83.6200    3384700.0 1999-11-04   \n",
      "1999-11-05   84.62   88.3700   84.000   88.3100    3721500.0 1999-11-05   \n",
      "...            ...       ...      ...       ...          ...        ...   \n",
      "2023-12-12  193.08  194.7200  191.721  194.7100   52696900.0 2023-12-12   \n",
      "2023-12-13  195.09  198.0000  194.850  197.9600   70404183.0 2023-12-13   \n",
      "2023-12-14  198.02  199.6200  196.160  198.1100   66831572.0 2023-12-14   \n",
      "2023-12-15  197.53  198.3999  197.000  197.5700  128538401.0 2023-12-15   \n",
      "2023-12-18  196.09  196.6300  194.395  194.6666   20965976.0 2023-12-18   \n",
      "\n",
      "                SMA_50     SMA_200     RSI_14      beta  \n",
      "datetime                                                 \n",
      "1999-11-01         NaN         NaN        NaN       NaN  \n",
      "1999-11-02         NaN         NaN        NaN       NaN  \n",
      "1999-11-03         NaN         NaN        NaN       NaN  \n",
      "1999-11-04         NaN         NaN        NaN       NaN  \n",
      "1999-11-05         NaN         NaN        NaN       NaN  \n",
      "...                ...         ...        ...       ...  \n",
      "2023-12-12  182.334200  176.793900  64.695546  1.228625  \n",
      "2023-12-13  182.845400  177.046650  69.489908  1.228648  \n",
      "2023-12-14  183.334400  177.310650  69.694465  1.227885  \n",
      "2023-12-15  183.787600  177.568950  67.928780  1.229381  \n",
      "2023-12-18  184.131132  177.787133  59.238795  1.229222  \n",
      "\n",
      "[6072 rows x 10 columns]\n"
     ]
    }
   ],
   "source": [
    "parameters.beta(data,spx)\n",
    "print(data)"
   ]
  },
  {
   "cell_type": "markdown",
   "metadata": {},
   "source": [
    "## Obtenemos el último la fecha de balance sheet"
   ]
  },
  {
   "cell_type": "code",
   "execution_count": 6,
   "metadata": {},
   "outputs": [
    {
     "name": "stdout",
     "output_type": "stream",
     "text": [
      "              open      high      low     close       volume       date  \\\n",
      "datetime                                                                  \n",
      "1999-11-01   80.00   80.6900   77.370   77.6200    2487300.0 1999-11-01   \n",
      "1999-11-02   78.00   81.6900   77.310   80.2500    3564600.0 1999-11-02   \n",
      "1999-11-03   81.62   83.2500   81.000   81.5000    2932700.0 1999-11-03   \n",
      "1999-11-04   82.06   85.3700   80.620   83.6200    3384700.0 1999-11-04   \n",
      "1999-11-05   84.62   88.3700   84.000   88.3100    3721500.0 1999-11-05   \n",
      "...            ...       ...      ...       ...          ...        ...   \n",
      "2023-12-12  193.08  194.7200  191.721  194.7100   52696900.0 2023-12-12   \n",
      "2023-12-13  195.09  198.0000  194.850  197.9600   70404183.0 2023-12-13   \n",
      "2023-12-14  198.02  199.6200  196.160  198.1100   66831572.0 2023-12-14   \n",
      "2023-12-15  197.53  198.3999  197.000  197.5700  128538401.0 2023-12-15   \n",
      "2023-12-18  196.09  196.6300  194.395  194.6666   20965976.0 2023-12-18   \n",
      "\n",
      "                SMA_50     SMA_200     RSI_14      beta  lastReport  \n",
      "datetime                                                             \n",
      "1999-11-01         NaN         NaN        NaN       NaN         NaN  \n",
      "1999-11-02         NaN         NaN        NaN       NaN         NaN  \n",
      "1999-11-03         NaN         NaN        NaN       NaN         NaN  \n",
      "1999-11-04         NaN         NaN        NaN       NaN         NaN  \n",
      "1999-11-05         NaN         NaN        NaN       NaN         NaN  \n",
      "...                ...         ...        ...       ...         ...  \n",
      "2023-12-12  182.334200  176.793900  64.695546  1.228625  2023-10-02  \n",
      "2023-12-13  182.845400  177.046650  69.489908  1.228648  2023-10-02  \n",
      "2023-12-14  183.334400  177.310650  69.694465  1.227885  2023-10-02  \n",
      "2023-12-15  183.787600  177.568950  67.928780  1.229381  2023-10-02  \n",
      "2023-12-18  184.131132  177.787133  59.238795  1.229222  2023-10-02  \n",
      "\n",
      "[6072 rows x 11 columns]\n"
     ]
    }
   ],
   "source": [
    "parameters.asignReportPresentationDate(\"AMD\",data)\n",
    "print(data)"
   ]
  },
  {
   "cell_type": "code",
   "execution_count": null,
   "metadata": {},
   "outputs": [],
   "source": [
    "BackUp = data.copy()"
   ]
  },
  {
   "cell_type": "markdown",
   "metadata": {},
   "source": [
    "## Calculo de comportamiento en días de presentación de resultados\n"
   ]
  },
  {
   "cell_type": "code",
   "execution_count": 7,
   "metadata": {},
   "outputs": [
    {
     "name": "stdout",
     "output_type": "stream",
     "text": [
      "Index(['open', 'high', 'low', 'close', 'volume', 'date', 'SMA_50', 'SMA_200',\n",
      "       'RSI_14', 'beta', 'lastReport', 'reportPriceMovement'],\n",
      "      dtype='object')\n",
      "              open      high      low     close       volume       date  \\\n",
      "datetime                                                                  \n",
      "1999-11-01   80.00   80.6900   77.370   77.6200    2487300.0 1999-11-01   \n",
      "1999-11-02   78.00   81.6900   77.310   80.2500    3564600.0 1999-11-02   \n",
      "1999-11-03   81.62   83.2500   81.000   81.5000    2932700.0 1999-11-03   \n",
      "1999-11-04   82.06   85.3700   80.620   83.6200    3384700.0 1999-11-04   \n",
      "1999-11-05   84.62   88.3700   84.000   88.3100    3721500.0 1999-11-05   \n",
      "...            ...       ...      ...       ...          ...        ...   \n",
      "2023-12-12  193.08  194.7200  191.721  194.7100   52696900.0 2023-12-12   \n",
      "2023-12-13  195.09  198.0000  194.850  197.9600   70404183.0 2023-12-13   \n",
      "2023-12-14  198.02  199.6200  196.160  198.1100   66831572.0 2023-12-14   \n",
      "2023-12-15  197.53  198.3999  197.000  197.5700  128538401.0 2023-12-15   \n",
      "2023-12-18  196.09  196.6300  194.395  194.6666   20965976.0 2023-12-18   \n",
      "\n",
      "                SMA_50     SMA_200     RSI_14      beta  lastReport  \\\n",
      "datetime                                                              \n",
      "1999-11-01         NaN         NaN        NaN       NaN         NaN   \n",
      "1999-11-02         NaN         NaN        NaN       NaN         NaN   \n",
      "1999-11-03         NaN         NaN        NaN       NaN         NaN   \n",
      "1999-11-04         NaN         NaN        NaN       NaN         NaN   \n",
      "1999-11-05         NaN         NaN        NaN       NaN         NaN   \n",
      "...                ...         ...        ...       ...         ...   \n",
      "2023-12-12  182.334200  176.793900  64.695546  1.228625  2023-10-02   \n",
      "2023-12-13  182.845400  177.046650  69.489908  1.228648  2023-10-02   \n",
      "2023-12-14  183.334400  177.310650  69.694465  1.227885  2023-10-02   \n",
      "2023-12-15  183.787600  177.568950  67.928780  1.229381  2023-10-02   \n",
      "2023-12-18  184.131132  177.787133  59.238795  1.229222  2023-10-02   \n",
      "\n",
      "            reportPriceMovement  \n",
      "datetime                         \n",
      "1999-11-01                  NaN  \n",
      "1999-11-02                  NaN  \n",
      "1999-11-03                  NaN  \n",
      "1999-11-04                  NaN  \n",
      "1999-11-05                  NaN  \n",
      "...                         ...  \n",
      "2023-12-12             1.477631  \n",
      "2023-12-13             1.477631  \n",
      "2023-12-14             1.477631  \n",
      "2023-12-15             1.477631  \n",
      "2023-12-18             1.477631  \n",
      "\n",
      "[6072 rows x 12 columns]\n"
     ]
    }
   ],
   "source": [
    "from src.modules.ALGORITHM_MODULE import *\n",
    "\n",
    "parameters.asignMovement(\"AAPL\",data)\n",
    "print(data.columns)\n",
    "print(data)\n"
   ]
  },
  {
   "cell_type": "code",
   "execution_count": 9,
   "metadata": {},
   "outputs": [
    {
     "name": "stdout",
     "output_type": "stream",
     "text": [
      "datetime\n",
      "2023-03-06   -3.999079\n",
      "2023-03-07   -3.999079\n",
      "2023-03-08   -3.999079\n",
      "2023-03-09   -3.999079\n",
      "2023-03-10   -3.999079\n",
      "                ...   \n",
      "2023-12-12    1.477631\n",
      "2023-12-13    1.477631\n",
      "2023-12-14    1.477631\n",
      "2023-12-15    1.477631\n",
      "2023-12-18    1.477631\n",
      "Name: reportPriceMovement, Length: 200, dtype: float64\n"
     ]
    }
   ],
   "source": [
    "print(data[\"reportPriceMovement\"].tail(200))"
   ]
  },
  {
   "cell_type": "markdown",
   "metadata": {},
   "source": [
    "## BackUp Físico\n"
   ]
  },
  {
   "cell_type": "code",
   "execution_count": null,
   "metadata": {},
   "outputs": [],
   "source": [
    "import pandas as pd\n",
    "\n",
    "# Especifica la ruta donde quieres guardar el archivo\n",
    "ruta_archivo = '/Users/oscarperezarruti/Documents/Documentos/Repositorios/trabajo-fin-grado-23/data_backup.xlsx'\n",
    "\n",
    "# Guardar el DataFrame en un archivo de Excel\n",
    "data.to_excel(ruta_archivo, index=False, engine='openpyxl')"
   ]
  },
  {
   "cell_type": "markdown",
   "metadata": {},
   "source": []
  }
 ],
 "metadata": {
  "kernelspec": {
   "display_name": "base",
   "language": "python",
   "name": "python3"
  },
  "language_info": {
   "codemirror_mode": {
    "name": "ipython",
    "version": 3
   },
   "file_extension": ".py",
   "mimetype": "text/x-python",
   "name": "python",
   "nbconvert_exporter": "python",
   "pygments_lexer": "ipython3",
   "version": "3.11.5"
  }
 },
 "nbformat": 4,
 "nbformat_minor": 2
}
