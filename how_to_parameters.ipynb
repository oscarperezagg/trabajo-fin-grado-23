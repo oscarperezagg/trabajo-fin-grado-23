{
 "cells": [
  {
   "cell_type": "code",
   "execution_count": 1,
   "metadata": {},
   "outputs": [],
   "source": [
    "from src.lib.MONGODB import *\n",
    "from src.system.secret import *\n",
    "import pandas as pd\n",
    "from src.modules.ALGORITHM_MODULE import *\n",
    "import numpy as np\n",
    "\n",
    "conn = MongoDbFunctions(\n",
    "    DATABASE[\"host\"],\n",
    "    DATABASE[\"port\"],\n",
    "    DATABASE[\"username\"],\n",
    "    DATABASE[\"password\"],\n",
    "    DATABASE[\"dbname\"],\n",
    "    \"CoreData\",\n",
    ")\n",
    "\n",
    "assets = conn.findByMultipleFields(\n",
    "    fields={\"interval\": \"15min\", \"symbol\": {\"$ne\": \"SPX\"}},\n",
    "    custom=True,\n",
    "    get_all=True,\n",
    "    proyeccion={\"_id\": 0, \"symbol\": 1},\n",
    ")\n",
    "assets = [asset[\"symbol\"] for asset in assets]\n"
   ]
  },
  {
   "cell_type": "markdown",
   "metadata": {},
   "source": [
    "## Obtenemos AMD"
   ]
  },
  {
   "cell_type": "code",
   "execution_count": 2,
   "metadata": {},
   "outputs": [
    {
     "name": "stdout",
     "output_type": "stream",
     "text": [
      "Last data date: 2021-01-04 04:00:00\n"
     ]
    }
   ],
   "source": [
    "\n",
    "data = conn.findByMultipleFields(\n",
    "    fields={\"symbol\": \"AAPL\", \"interval\": \"15min\"}, custom=True\n",
    ")\n",
    "\n",
    "data = parameters.formatData(data)\n",
    "\n",
    "print(f\"Last data date: {data.iloc[0]['date']}\")"
   ]
  },
  {
   "cell_type": "markdown",
   "metadata": {},
   "source": [
    "## Calculamos simple moving average"
   ]
  },
  {
   "cell_type": "code",
   "execution_count": 3,
   "metadata": {},
   "outputs": [
    {
     "name": "stdout",
     "output_type": "stream",
     "text": [
      "                        open     high      low    close   volume  \\\n",
      "datetime                                                           \n",
      "2021-01-04 04:00:00  131.001  131.698  130.688  131.423  40911.0   \n",
      "2021-01-04 04:15:00  131.659  131.708  131.484  131.678  26646.0   \n",
      "2021-01-04 04:30:00  131.679  131.698  131.209  131.531   6493.0   \n",
      "2021-01-04 04:45:00  131.541  131.560  131.160  131.285  13911.0   \n",
      "2021-01-04 05:00:00  131.286  131.649  131.258  131.285  31283.0   \n",
      "...                      ...      ...      ...      ...      ...   \n",
      "2023-12-01 18:45:00  191.275  191.320  191.210  191.210   3017.0   \n",
      "2023-12-01 19:00:00  191.240  191.300  191.220  191.280   1383.0   \n",
      "2023-12-01 19:15:00  191.290  191.300  191.260  191.280   2948.0   \n",
      "2023-12-01 19:30:00  191.280  191.320  191.260  191.280    985.0   \n",
      "2023-12-01 19:45:00  191.290  191.330  191.270  191.300   6707.0   \n",
      "\n",
      "                                   date    SMA_50    SMA_200  \n",
      "datetime                                                      \n",
      "2021-01-04 04:00:00 2021-01-04 04:00:00       NaN        NaN  \n",
      "2021-01-04 04:15:00 2021-01-04 04:15:00       NaN        NaN  \n",
      "2021-01-04 04:30:00 2021-01-04 04:30:00       NaN        NaN  \n",
      "2021-01-04 04:45:00 2021-01-04 04:45:00       NaN        NaN  \n",
      "2021-01-04 05:00:00 2021-01-04 05:00:00       NaN        NaN  \n",
      "...                                 ...       ...        ...  \n",
      "2023-12-01 18:45:00 2023-12-01 18:45:00  190.7263  189.96335  \n",
      "2023-12-01 19:00:00 2023-12-01 19:00:00  190.7539  189.97230  \n",
      "2023-12-01 19:15:00 2023-12-01 19:15:00  190.7805  189.98165  \n",
      "2023-12-01 19:30:00 2023-12-01 19:30:00  190.8081  189.99055  \n",
      "2023-12-01 19:45:00 2023-12-01 19:45:00  190.8393  189.99975  \n",
      "\n",
      "[46860 rows x 8 columns]\n"
     ]
    }
   ],
   "source": [
    "parameters.simplemovingaverage(data, 50)\n",
    "parameters.simplemovingaverage(data, 200)\n",
    "print(data)"
   ]
  },
  {
   "cell_type": "markdown",
   "metadata": {},
   "source": [
    "## Calculo de relative strength index"
   ]
  },
  {
   "cell_type": "code",
   "execution_count": 4,
   "metadata": {},
   "outputs": [
    {
     "name": "stdout",
     "output_type": "stream",
     "text": [
      "                        open     high      low    close   volume  \\\n",
      "datetime                                                           \n",
      "2021-01-04 04:00:00  131.001  131.698  130.688  131.423  40911.0   \n",
      "2021-01-04 04:15:00  131.659  131.708  131.484  131.678  26646.0   \n",
      "2021-01-04 04:30:00  131.679  131.698  131.209  131.531   6493.0   \n",
      "2021-01-04 04:45:00  131.541  131.560  131.160  131.285  13911.0   \n",
      "2021-01-04 05:00:00  131.286  131.649  131.258  131.285  31283.0   \n",
      "...                      ...      ...      ...      ...      ...   \n",
      "2023-12-01 18:45:00  191.275  191.320  191.210  191.210   3017.0   \n",
      "2023-12-01 19:00:00  191.240  191.300  191.220  191.280   1383.0   \n",
      "2023-12-01 19:15:00  191.290  191.300  191.260  191.280   2948.0   \n",
      "2023-12-01 19:30:00  191.280  191.320  191.260  191.280    985.0   \n",
      "2023-12-01 19:45:00  191.290  191.330  191.270  191.300   6707.0   \n",
      "\n",
      "                                   date    SMA_50    SMA_200     RSI_14  \n",
      "datetime                                                                 \n",
      "2021-01-04 04:00:00 2021-01-04 04:00:00       NaN        NaN        NaN  \n",
      "2021-01-04 04:15:00 2021-01-04 04:15:00       NaN        NaN        NaN  \n",
      "2021-01-04 04:30:00 2021-01-04 04:30:00       NaN        NaN        NaN  \n",
      "2021-01-04 04:45:00 2021-01-04 04:45:00       NaN        NaN        NaN  \n",
      "2021-01-04 05:00:00 2021-01-04 05:00:00       NaN        NaN        NaN  \n",
      "...                                 ...       ...        ...        ...  \n",
      "2023-12-01 18:45:00 2023-12-01 18:45:00  190.7263  189.96335  55.124575  \n",
      "2023-12-01 19:00:00 2023-12-01 19:00:00  190.7539  189.97230  57.774106  \n",
      "2023-12-01 19:15:00 2023-12-01 19:15:00  190.7805  189.98165  57.774106  \n",
      "2023-12-01 19:30:00 2023-12-01 19:30:00  190.8081  189.99055  57.774106  \n",
      "2023-12-01 19:45:00 2023-12-01 19:45:00  190.8393  189.99975  58.645411  \n",
      "\n",
      "[46860 rows x 9 columns]\n"
     ]
    }
   ],
   "source": [
    "parameters.relativestregthindex(data, 14)\n",
    "print(data)"
   ]
  },
  {
   "cell_type": "markdown",
   "metadata": {},
   "source": [
    "## Calculo de Beta diaria (Últimos 5 años)"
   ]
  },
  {
   "cell_type": "code",
   "execution_count": 5,
   "metadata": {},
   "outputs": [
    {
     "name": "stdout",
     "output_type": "stream",
     "text": [
      "              open      high      low   close      volume       date      beta\n",
      "datetime                                                                      \n",
      "2021-01-04   92.11   96.0600   90.915   92.30  51802552.0 2021-01-04  1.487356\n",
      "2021-01-05   92.10   93.2077   91.410   92.77  34207989.0 2021-01-05  1.481697\n",
      "2021-01-06   91.62   92.2800   89.460   90.33  51911657.0 2021-01-06  1.472786\n",
      "2021-01-07   91.33   95.5100   91.200   95.16  42897157.0 2021-01-07  1.472131\n",
      "2021-01-08   95.98   96.4000   93.270   94.58  39816400.0 2021-01-08  1.471565\n",
      "...            ...       ...      ...     ...         ...        ...       ...\n",
      "2023-11-27  122.07  123.8900  121.772  122.65  32743006.0 2023-11-27  1.602713\n",
      "2023-11-28  121.98  122.5400  120.790  122.01  32047063.0 2023-11-28  1.605033\n",
      "2023-11-29  123.98  125.7250  123.480  123.85  37876317.0 2023-11-29  1.605013\n",
      "2023-11-30  123.61  124.0500  119.650  121.16  44494211.0 2023-11-30  1.605275\n",
      "2023-12-01  119.88  121.4001  118.645  121.39  37048002.0 2023-12-01  1.600833\n",
      "\n",
      "[734 rows x 7 columns]\n"
     ]
    }
   ],
   "source": [
    "year = data.iloc[0][\"date\"].year\n",
    "betas = parameters.beta(\"AMD\",limit=str(year))\n",
    "print(betas)"
   ]
  },
  {
   "cell_type": "markdown",
   "metadata": {},
   "source": [
    "## Asignamos el valor de beta a cada día de la serie de 15 minutos"
   ]
  },
  {
   "cell_type": "code",
   "execution_count": 6,
   "metadata": {},
   "outputs": [],
   "source": [
    "from src.modules.ALGORITHM_MODULE import *\n",
    "\n",
    "parameters.apply_beta(data, betas)\n"
   ]
  },
  {
   "cell_type": "code",
   "execution_count": 7,
   "metadata": {},
   "outputs": [],
   "source": [
    "BackUp = data.copy()"
   ]
  },
  {
   "cell_type": "markdown",
   "metadata": {},
   "source": [
    "## Obtenemos el último la fecha de balance sheet"
   ]
  },
  {
   "cell_type": "code",
   "execution_count": 8,
   "metadata": {},
   "outputs": [
    {
     "name": "stdout",
     "output_type": "stream",
     "text": [
      "                        open     high      low    close   volume  \\\n",
      "datetime                                                           \n",
      "2021-01-04 04:00:00  131.001  131.698  130.688  131.423  40911.0   \n",
      "2021-01-04 04:15:00  131.659  131.708  131.484  131.678  26646.0   \n",
      "2021-01-04 04:30:00  131.679  131.698  131.209  131.531   6493.0   \n",
      "2021-01-04 04:45:00  131.541  131.560  131.160  131.285  13911.0   \n",
      "2021-01-04 05:00:00  131.286  131.649  131.258  131.285  31283.0   \n",
      "...                      ...      ...      ...      ...      ...   \n",
      "2023-12-01 18:45:00  191.275  191.320  191.210  191.210   3017.0   \n",
      "2023-12-01 19:00:00  191.240  191.300  191.220  191.280   1383.0   \n",
      "2023-12-01 19:15:00  191.290  191.300  191.260  191.280   2948.0   \n",
      "2023-12-01 19:30:00  191.280  191.320  191.260  191.280    985.0   \n",
      "2023-12-01 19:45:00  191.290  191.330  191.270  191.300   6707.0   \n",
      "\n",
      "                                   date    SMA_50    SMA_200     RSI_14  \\\n",
      "datetime                                                                  \n",
      "2021-01-04 04:00:00 2021-01-04 04:00:00       NaN        NaN        NaN   \n",
      "2021-01-04 04:15:00 2021-01-04 04:15:00       NaN        NaN        NaN   \n",
      "2021-01-04 04:30:00 2021-01-04 04:30:00       NaN        NaN        NaN   \n",
      "2021-01-04 04:45:00 2021-01-04 04:45:00       NaN        NaN        NaN   \n",
      "2021-01-04 05:00:00 2021-01-04 05:00:00       NaN        NaN        NaN   \n",
      "...                                 ...       ...        ...        ...   \n",
      "2023-12-01 18:45:00 2023-12-01 18:45:00  190.7263  189.96335  55.124575   \n",
      "2023-12-01 19:00:00 2023-12-01 19:00:00  190.7539  189.97230  57.774106   \n",
      "2023-12-01 19:15:00 2023-12-01 19:15:00  190.7805  189.98165  57.774106   \n",
      "2023-12-01 19:30:00 2023-12-01 19:30:00  190.8081  189.99055  57.774106   \n",
      "2023-12-01 19:45:00 2023-12-01 19:45:00  190.8393  189.99975  58.645411   \n",
      "\n",
      "                         beta  lastReport  \n",
      "datetime                                   \n",
      "2021-01-04 04:00:00  1.487356  2020-12-31  \n",
      "2021-01-04 04:15:00  1.487356  2020-12-31  \n",
      "2021-01-04 04:30:00  1.487356  2020-12-31  \n",
      "2021-01-04 04:45:00  1.487356  2020-12-31  \n",
      "2021-01-04 05:00:00  1.487356  2020-12-31  \n",
      "...                       ...         ...  \n",
      "2023-12-01 18:45:00  1.600833  2023-10-02  \n",
      "2023-12-01 19:00:00  1.600833  2023-10-02  \n",
      "2023-12-01 19:15:00  1.600833  2023-10-02  \n",
      "2023-12-01 19:30:00  1.600833  2023-10-02  \n",
      "2023-12-01 19:45:00  1.600833  2023-10-02  \n",
      "\n",
      "[46860 rows x 11 columns]\n"
     ]
    }
   ],
   "source": [
    "parameters.asignReportPresentationDate(\"AMD\",data)\n",
    "print(data)"
   ]
  },
  {
   "cell_type": "code",
   "execution_count": 9,
   "metadata": {},
   "outputs": [],
   "source": [
    "BackUp = data.copy()"
   ]
  },
  {
   "cell_type": "markdown",
   "metadata": {},
   "source": [
    "## Calculo de comportamiento en días de presentación de resultados\n"
   ]
  },
  {
   "cell_type": "code",
   "execution_count": 10,
   "metadata": {},
   "outputs": [],
   "source": [
    "from src.modules.ALGORITHM_MODULE import *\n",
    "\n",
    "parameters.asignMovement(\"AAPL\",data)\n"
   ]
  },
  {
   "cell_type": "markdown",
   "metadata": {},
   "source": [
    "## BackUp Físico\n"
   ]
  },
  {
   "cell_type": "code",
   "execution_count": 11,
   "metadata": {},
   "outputs": [],
   "source": [
    "import pandas as pd\n",
    "\n",
    "# Especifica la ruta donde quieres guardar el archivo\n",
    "ruta_archivo = '/Users/oscarperezarruti/Documents/Documentos/Repositorios/trabajo-fin-grado-23/data_backup.xlsx'\n",
    "\n",
    "# Guardar el DataFrame en un archivo de Excel\n",
    "data.to_excel(ruta_archivo, index=False, engine='openpyxl')"
   ]
  },
  {
   "cell_type": "markdown",
   "metadata": {},
   "source": []
  }
 ],
 "metadata": {
  "kernelspec": {
   "display_name": "base",
   "language": "python",
   "name": "python3"
  },
  "language_info": {
   "codemirror_mode": {
    "name": "ipython",
    "version": 3
   },
   "file_extension": ".py",
   "mimetype": "text/x-python",
   "name": "python",
   "nbconvert_exporter": "python",
   "pygments_lexer": "ipython3",
   "version": "3.11.5"
  }
 },
 "nbformat": 4,
 "nbformat_minor": 2
}
