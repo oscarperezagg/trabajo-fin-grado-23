{
 "cells": [
  {
   "cell_type": "code",
   "execution_count": 4,
   "metadata": {},
   "outputs": [
    {
     "name": "stdout",
     "output_type": "stream",
     "text": [
      "Errores: 9\n",
      "Fechas: 35\n"
     ]
    }
   ],
   "source": [
    "from src.modules import parameters\n",
    "from src.lib.MONGODB import *\n",
    "from src.system.secret import *\n",
    "import pandas as pd\n",
    "from src.modules.ALGORITHM_MODULE import *\n",
    "import numpy as np\n",
    "\n",
    "conn = MongoDbFunctions(\n",
    "    DATABASE[\"host\"],\n",
    "    DATABASE[\"port\"],\n",
    "    DATABASE[\"username\"],\n",
    "    DATABASE[\"password\"],\n",
    "    DATABASE[\"dbname\"],\n",
    "    \"CoreData\",\n",
    ")\n",
    "\n",
    "assets = conn.findByMultipleFields(\n",
    "    fields={\"interval\": \"1day\", \"symbol\": {\"$ne\": \"SPX\"}},\n",
    "    custom=True,\n",
    "    get_all=True,\n",
    "    proyeccion={\"_id\": 0, \"symbol\": 1},\n",
    ")\n",
    "assets = [asset[\"symbol\"] for asset in assets]\n",
    "errores = 0\n",
    "errores_stock = []\n",
    "fechas = 0\n",
    "fechas_stock = []\n",
    "for asset in assets:\n",
    "    try:\n",
    "        CashFlow, BalanceSheet = parameters.getDataForPER(asset)\n",
    "\n",
    "        for i in range(0, len(CashFlow)):\n",
    "            if CashFlow[i][\"fiscalDateEnding\"] != BalanceSheet[i][\"fiscalDateEnding\"]:\n",
    "                fechas += 1\n",
    "                fechas_stock.append(asset)\n",
    "                break\n",
    "    except:\n",
    "        errores_stock.append(asset)\n",
    "        errores += 1\n",
    "  \n",
    "        \n",
    "print(f\"Errores: {errores}\")\n",
    "print(f\"Errores: {errores_stock}\")\n",
    "print(f\"Fechas: {fechas}\")\n",
    "print(f\"Fechas: {fechas_stock}\")"
   ]
  }
 ],
 "metadata": {
  "kernelspec": {
   "display_name": "base",
   "language": "python",
   "name": "python3"
  },
  "language_info": {
   "codemirror_mode": {
    "name": "ipython",
    "version": 3
   },
   "file_extension": ".py",
   "mimetype": "text/x-python",
   "name": "python",
   "nbconvert_exporter": "python",
   "pygments_lexer": "ipython3",
   "version": "3.11.5"
  }
 },
 "nbformat": 4,
 "nbformat_minor": 2
}
